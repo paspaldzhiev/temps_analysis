{
 "cells": [
  {
   "cell_type": "code",
   "execution_count": 1,
   "metadata": {
    "collapsed": false
   },
   "outputs": [],
   "source": [
    "import os \n",
    "import numpy as np\n",
    "import pandas as pd\n",
    "from collections import OrderedDict\n",
    "import matplotlib.pyplot as plt"
   ]
  },
  {
   "cell_type": "code",
   "execution_count": 2,
   "metadata": {
    "collapsed": false
   },
   "outputs": [],
   "source": [
    "DATADIR = 'D:\\\\data\\\\temps\\\\'\n",
    "todo = OrderedDict([\n",
    "       ('NASA GISTEMP', 'giss_anom.csv'),\n",
    "       ('NOAA NCDC', 'ncdc_anom.csv'),\n",
    "       ('HadCRU', 'hadcru_anom.csv'),\n",
    "       ('RSS', 'rss_anom.csv'),\n",
    "       ('UAH', 'uah_anom.csv')\n",
    "        ])"
   ]
  },
  {
   "cell_type": "code",
   "execution_count": 3,
   "metadata": {
    "collapsed": false,
    "scrolled": true
   },
   "outputs": [
    {
     "name": "stdout",
     "output_type": "stream",
     "text": [
      "{'UAH': -2.2222222222222318e-05, 'NOAA NCDC': 0.43363888888888885, 'HadCRU': 0.2929888888888888, 'NASA GISTEMP': 0.43036111111111103, 'RSS': 0.09735000000000003}\n"
     ]
    }
   ],
   "source": [
    "'''\n",
    "As all have different baseline climate periods, need to 1st set all to a common baseline\n",
    "As satellite records are only 1979+, use only 1979-2016 data\n",
    "'''\n",
    "\n",
    "offsets = {} # we'll use UAH 1981-2011 baseline as zero point\n",
    "annual_means = OrderedDict()\n",
    "\n",
    "for key, val in todo.iteritems():\n",
    "    data = pd.read_csv(os.path.join(DATADIR,val))\n",
    "    #calc offsets from UAH baseline\n",
    "    subset_offset = np.logical_and(1981 <= data['year'], data['year'] < 2011)\n",
    "    offset_use = data[subset_offset]\n",
    "\n",
    "    if offset_use.shape[-1 ] > 3: # deal with giss data\n",
    "        offsets[key] = offset_use[offset_use.keys()[1:]].as_matrix().mean()        \n",
    "    else:\n",
    "        offsets[key] = offset_use['val'].mean()\n",
    "        \n",
    "    #get annual means for each dataset\n",
    "    #subset_same = 1979 <= data['year'] #need the same period for all data\n",
    "    subset_same = np.logical_and(1979 <= data['year'], data['year'] < 2017)\n",
    "    same_use = data[subset_same]\n",
    "    \n",
    "    if same_use.shape[-1 ] > 3: # deal with giss data\n",
    "        ts = same_use[offset_use.keys()[1:]].as_matrix()\n",
    "        annual_means[key] = np.average(ts, axis=1) \n",
    "    else:\n",
    "        ts = same_use['val'].reshape(-1,12)\n",
    "        annual_means[key] = np.average(ts,axis=1)\n",
    "          \n",
    "print offsets # UAH is virtually 0, as should be expected"
   ]
  },
  {
   "cell_type": "code",
   "execution_count": 6,
   "metadata": {
    "collapsed": true
   },
   "outputs": [],
   "source": [
    "x = np.arange(1979,2016+1)"
   ]
  },
  {
   "cell_type": "code",
   "execution_count": null,
   "metadata": {
    "collapsed": false,
    "scrolled": true
   },
   "outputs": [],
   "source": [
    "# can see that series follow same general pattern but are offset in Y due to having different baselines\n",
    "for key, val in annual_means.iteritems():\n",
    "    plt.plot(x, val, label=key)\n",
    "    plt.legend()\n",
    "plt.show()"
   ]
  },
  {
   "cell_type": "code",
   "execution_count": 5,
   "metadata": {
    "collapsed": true
   },
   "outputs": [],
   "source": [
    "#let's fix that\n",
    "annual_means_fixed = OrderedDict()\n",
    "\n",
    "for key, val in annual_means.iteritems():\n",
    "    annual_means_fixed[key] = val - offsets[key]"
   ]
  },
  {
   "cell_type": "code",
   "execution_count": 38,
   "metadata": {
    "collapsed": false
   },
   "outputs": [],
   "source": [
    "#works!\n",
    "for key, val in annual_means_fixed.iteritems():\n",
    "    plt.plot(x,val, label=key)\n",
    "    plt.legend()\n",
    "plt.show()"
   ]
  },
  {
   "cell_type": "code",
   "execution_count": 7,
   "metadata": {
    "collapsed": true
   },
   "outputs": [],
   "source": [
    "'''\n",
    "fit linear models to data\n",
    "want to have standard error estimate of fitted slopes BUT temp data is autocorrelated = too small errors\n",
    "correct SE by estimating effective degrees of freedom via Foster and Rahmstorf (2011)\n",
    "'''\n",
    "\n",
    "from scipy.stats import linregress\n",
    "from statsmodels.regression import yule_walker"
   ]
  },
  {
   "cell_type": "code",
   "execution_count": 8,
   "metadata": {
    "collapsed": false
   },
   "outputs": [
    {
     "name": "stdout",
     "output_type": "stream",
     "text": [
      "NASA GISTEMP 0.00138505155534 0.002127298429\n",
      "NOAA NCDC 0.00125873315907 0.00196379426504\n",
      "HadCRU 0.00135777588192 0.00208578415228\n",
      "RSS 0.00205889424589 0.00368544973049\n",
      "UAH 0.0021552853948 0.00582293899485\n"
     ]
    }
   ],
   "source": [
    "reg = OrderedDict()\n",
    "for key, val in annual_means_fixed.iteritems():\n",
    "    m,c,r,p,se = linregress(x,val)\n",
    "    fit = m*x + c\n",
    "    \n",
    "    residual = val - fit\n",
    "    p1,p2 = yule_walker(residual, 2)[0]\n",
    "    fi = p2/p1\n",
    "    v = 1+(2*p1)/1-fi\n",
    "    se_corr = se*np.sqrt(v)    \n",
    "    reg[key] = (fit,m,se_corr)\n",
    "    print key,se,se_corr"
   ]
  },
  {
   "cell_type": "code",
   "execution_count": 105,
   "metadata": {
    "collapsed": true
   },
   "outputs": [],
   "source": [
    "#now let's make an interactive chart\n",
    "from bokeh import plotting as bplt\n",
    "from bokeh.models import HoverTool, ColumnDataSource, CheckboxGroup, CustomJS\n",
    "from bokeh.layouts import row,column"
   ]
  },
  {
   "cell_type": "code",
   "execution_count": 108,
   "metadata": {
    "collapsed": false
   },
   "outputs": [],
   "source": [
    "colours = dict((key,val) for key,val in zip(annual_means_fixed.keys(), ['black', 'red', 'blue', 'yellow', 'orange']))\n",
    "out = os.path.join(DATADIR,'test.html')\n",
    "output_file(out)"
   ]
  },
  {
   "cell_type": "code",
   "execution_count": 109,
   "metadata": {
    "collapsed": false,
    "scrolled": true
   },
   "outputs": [
    {
     "data": {
      "text/html": [
       "\n",
       "\n",
       "    <div class=\"bk-root\">\n",
       "        <div class=\"bk-plotdiv\" id=\"45da6780-e593-4b5d-b828-7e596b928d10\"></div>\n",
       "    </div>\n",
       "<script type=\"text/javascript\">\n",
       "  \n",
       "  (function(global) {\n",
       "    function now() {\n",
       "      return new Date();\n",
       "    }\n",
       "  \n",
       "    var force = false;\n",
       "  \n",
       "    if (typeof (window._bokeh_onload_callbacks) === \"undefined\" || force === true) {\n",
       "      window._bokeh_onload_callbacks = [];\n",
       "      window._bokeh_is_loading = undefined;\n",
       "    }\n",
       "  \n",
       "  \n",
       "    \n",
       "    if (typeof (window._bokeh_timeout) === \"undefined\" || force === true) {\n",
       "      window._bokeh_timeout = Date.now() + 0;\n",
       "      window._bokeh_failed_load = false;\n",
       "    }\n",
       "  \n",
       "    var NB_LOAD_WARNING = {'data': {'text/html':\n",
       "       \"<div style='background-color: #fdd'>\\n\"+\n",
       "       \"<p>\\n\"+\n",
       "       \"BokehJS does not appear to have successfully loaded. If loading BokehJS from CDN, this \\n\"+\n",
       "       \"may be due to a slow or bad network connection. Possible fixes:\\n\"+\n",
       "       \"</p>\\n\"+\n",
       "       \"<ul>\\n\"+\n",
       "       \"<li>re-rerun `output_notebook()` to attempt to load from CDN again, or</li>\\n\"+\n",
       "       \"<li>use INLINE resources instead, as so:</li>\\n\"+\n",
       "       \"</ul>\\n\"+\n",
       "       \"<code>\\n\"+\n",
       "       \"from bokeh.resources import INLINE\\n\"+\n",
       "       \"output_notebook(resources=INLINE)\\n\"+\n",
       "       \"</code>\\n\"+\n",
       "       \"</div>\"}};\n",
       "  \n",
       "    function display_loaded() {\n",
       "      if (window.Bokeh !== undefined) {\n",
       "        document.getElementById(\"45da6780-e593-4b5d-b828-7e596b928d10\").textContent = \"BokehJS successfully loaded.\";\n",
       "      } else if (Date.now() < window._bokeh_timeout) {\n",
       "        setTimeout(display_loaded, 100)\n",
       "      }\n",
       "    }\n",
       "  \n",
       "    function run_callbacks() {\n",
       "      window._bokeh_onload_callbacks.forEach(function(callback) { callback() });\n",
       "      delete window._bokeh_onload_callbacks\n",
       "      console.info(\"Bokeh: all callbacks have finished\");\n",
       "    }\n",
       "  \n",
       "    function load_libs(js_urls, callback) {\n",
       "      window._bokeh_onload_callbacks.push(callback);\n",
       "      if (window._bokeh_is_loading > 0) {\n",
       "        console.log(\"Bokeh: BokehJS is being loaded, scheduling callback at\", now());\n",
       "        return null;\n",
       "      }\n",
       "      if (js_urls == null || js_urls.length === 0) {\n",
       "        run_callbacks();\n",
       "        return null;\n",
       "      }\n",
       "      console.log(\"Bokeh: BokehJS not loaded, scheduling load and callback at\", now());\n",
       "      window._bokeh_is_loading = js_urls.length;\n",
       "      for (var i = 0; i < js_urls.length; i++) {\n",
       "        var url = js_urls[i];\n",
       "        var s = document.createElement('script');\n",
       "        s.src = url;\n",
       "        s.async = false;\n",
       "        s.onreadystatechange = s.onload = function() {\n",
       "          window._bokeh_is_loading--;\n",
       "          if (window._bokeh_is_loading === 0) {\n",
       "            console.log(\"Bokeh: all BokehJS libraries loaded\");\n",
       "            run_callbacks()\n",
       "          }\n",
       "        };\n",
       "        s.onerror = function() {\n",
       "          console.warn(\"failed to load library \" + url);\n",
       "        };\n",
       "        console.log(\"Bokeh: injecting script tag for BokehJS library: \", url);\n",
       "        document.getElementsByTagName(\"head\")[0].appendChild(s);\n",
       "      }\n",
       "    };var element = document.getElementById(\"45da6780-e593-4b5d-b828-7e596b928d10\");\n",
       "    if (element == null) {\n",
       "      console.log(\"Bokeh: ERROR: autoload.js configured with elementid '45da6780-e593-4b5d-b828-7e596b928d10' but no matching script tag was found. \")\n",
       "      return false;\n",
       "    }\n",
       "  \n",
       "    var js_urls = [];\n",
       "  \n",
       "    var inline_js = [\n",
       "      function(Bokeh) {\n",
       "        (function() {\n",
       "          var fn = function() {\n",
       "            var docs_json = {\"02522456-a095-42b8-8003-356209f72564\":{\"roots\":{\"references\":[{\"attributes\":{\"label\":{\"value\":\"RSS\"},\"renderers\":[{\"id\":\"8b88d3c3-a471-477f-8dee-05451db1e61a\",\"type\":\"GlyphRenderer\"},{\"id\":\"0f254478-36f4-44c3-88b3-ae13e276f9f9\",\"type\":\"GlyphRenderer\"}]},\"id\":\"4d3e34c2-d6e3-4432-a8fa-b5eac82c9b1f\",\"type\":\"LegendItem\"},{\"attributes\":{\"data_source\":{\"id\":\"cb20c886-1f4e-4c87-8748-52b01658d458\",\"type\":\"ColumnDataSource\"},\"glyph\":{\"id\":\"4caa4ed8-838e-4bf7-a505-b566280d000e\",\"type\":\"Circle\"},\"hover_glyph\":null,\"name\":\"scatter\",\"nonselection_glyph\":{\"id\":\"a16e4421-cecb-4007-b183-23e01b9841cf\",\"type\":\"Circle\"},\"selection_glyph\":null},\"id\":\"0f254478-36f4-44c3-88b3-ae13e276f9f9\",\"type\":\"GlyphRenderer\"},{\"attributes\":{\"plot\":null,\"text\":\"\"},\"id\":\"fc756dd6-f775-4f42-9546-958ac2881f02\",\"type\":\"Title\"},{\"attributes\":{\"line_color\":{\"value\":\"orange\"},\"x\":{\"field\":\"x\"},\"y\":{\"field\":\"y\"}},\"id\":\"2662777b-e291-4d0c-8f12-6a2ae6f0ec83\",\"type\":\"Line\"},{\"attributes\":{\"line_color\":{\"value\":\"yellow\"},\"x\":{\"field\":\"x\"},\"y\":{\"field\":\"y\"}},\"id\":\"ee8b537f-88d8-41a3-b0de-f16a93044a57\",\"type\":\"Line\"},{\"attributes\":{\"fill_alpha\":{\"value\":0.1},\"fill_color\":{\"value\":\"#1f77b4\"},\"line_alpha\":{\"value\":0.1},\"line_color\":{\"value\":\"#1f77b4\"},\"size\":{\"units\":\"screen\",\"value\":8},\"x\":{\"field\":\"year\"},\"y\":{\"field\":\"anomaly\"}},\"id\":\"4296bac0-3e36-4977-aafe-134ad3042b1e\",\"type\":\"Circle\"},{\"attributes\":{\"label\":{\"value\":\"NOAA NCDC\"},\"renderers\":[{\"id\":\"0258cab4-0f7d-4dd2-87fd-b18b7ade3059\",\"type\":\"GlyphRenderer\"},{\"id\":\"b14a9eef-22f3-4af1-9c57-f200e7321210\",\"type\":\"GlyphRenderer\"}]},\"id\":\"482a78d6-6074-4ab2-87c2-933b7226b2e2\",\"type\":\"LegendItem\"},{\"attributes\":{\"line_alpha\":{\"value\":0.1},\"line_color\":{\"value\":\"#1f77b4\"},\"x\":{\"field\":\"x\"},\"y\":{\"field\":\"y\"}},\"id\":\"52134b91-ed9f-4f4a-bced-4baa50ae6d6a\",\"type\":\"Line\"},{\"attributes\":{},\"id\":\"ee322d6d-14b3-4e73-b188-5c3c4fd3ccbb\",\"type\":\"BasicTickFormatter\"},{\"attributes\":{\"plot\":{\"id\":\"f4f389ec-9a61-4680-add4-ccb2d7b10154\",\"subtype\":\"Figure\",\"type\":\"Plot\"}},\"id\":\"865d8f38-e4ad-4068-a920-6c9c1bc608ee\",\"type\":\"PanTool\"},{\"attributes\":{\"line_alpha\":{\"value\":0.1},\"line_color\":{\"value\":\"#1f77b4\"},\"line_dash\":[6],\"line_width\":{\"value\":2},\"x\":{\"field\":\"x\"},\"y\":{\"field\":\"y\"}},\"id\":\"879d8118-3e51-46db-b1b0-d10c59dbeb66\",\"type\":\"Line\"},{\"attributes\":{\"callback\":null,\"column_names\":[\"y\",\"x\"],\"data\":{\"x\":{\"__ndarray__\":\"uwcAALwHAAC9BwAAvgcAAL8HAADABwAAwQcAAMIHAADDBwAAxAcAAMUHAADGBwAAxwcAAMgHAADJBwAAygcAAMsHAADMBwAAzQcAAM4HAADPBwAA0AcAANEHAADSBwAA0wcAANQHAADVBwAA1gcAANcHAADYBwAA2QcAANoHAADbBwAA3AcAAN0HAADeBwAA3wcAAOAHAAA=\",\"dtype\":\"int32\",\"shape\":[38]},\"y\":{\"__ndarray__\":\"gMh3Jzoh0r8AMiWkiAfRvwA2pUGu28+/AAkAO0uozb8A21o06HTLvwCutS2FQcm/AIAQJyIOx78AU2sgv9rEvwAmxhlcp8K/APggE/lzwL8AlvcYLIG8vwA6rQtmGri/AOBi/p+zs78ACDHis5muvwBUnMcnzKW/ADgPWjf9mb8AoMtJPsSAvwBAhyDycYI/AAhtRRHUmj8AOEu9lDemPwDw39cgBa8/AFI6eVbpsz8AroSGHFC4PwAIz5Pitrw/ALKMUNSOwD8A3zFXN8LCPwAN112a9cQ/ADp8ZP0oxz8AaCFrYFzJPwCVxnHDj8s/AMJreCbDzT8A8BB/ifbPP4AO20L2FNE/gKUtxqcu0j8APIBJWUjTPwDT0swKYtQ/gGklULx71T+AAHjTbZXWPw==\",\"dtype\":\"float64\",\"shape\":[38]}}},\"id\":\"97d84066-8f97-4cb1-92ef-86b37865af32\",\"type\":\"ColumnDataSource\"},{\"attributes\":{\"x\":{\"field\":\"x\"},\"y\":{\"field\":\"y\"}},\"id\":\"d5541102-5a34-42c1-8c43-52aa72e0c8db\",\"type\":\"Line\"},{\"attributes\":{\"callback\":null,\"column_names\":[\"x\",\"y\"],\"data\":{\"x\":{\"__ndarray__\":\"uwcAALwHAAC9BwAAvgcAAL8HAADABwAAwQcAAMIHAADDBwAAxAcAAMUHAADGBwAAxwcAAMgHAADJBwAAygcAAMsHAADMBwAAzQcAAM4HAADPBwAA0AcAANEHAADSBwAA0wcAANQHAADVBwAA1gcAANcHAADYBwAA2QcAANoHAADbBwAA3AcAAN0HAADeBwAA3wcAAOAHAAA=\",\"dtype\":\"int32\",\"shape\":[38]},\"y\":{\"__ndarray__\":\"/atl9irQyr8W/T8SpzGlv5NjFECAbry/7335xkzx0r80EHyqzhulv8YGgwlnaM6/5hgFEKAb17/9HRWwuwTMv2tR29UNUKk/pAWkTMzvoz+NtYPCPsXKv6thDuQV14o/Kj80pChblT9UnTeK+/HRvz5++oDe38m/TfRI5WJbsL+aB2EMcPKxP48Lku/wYoK/M6nKM35Dfb/MEjvelfvePzwnMsI9C5G/nX6ynqk5lb/LDw0pyla9P1obnxi7ucs/r/5EtH/axz9ixUdPQoe0Px4RyHRKfMk/elfuo94EvT/u7HrLEYHEPwWhHhck37m/O5Q/oyUtuD85sw7lz2jVP1cNcyCvuJY/ACO3iGQXrj8WHoN3LtvAPw/kFdda1MY/cyCvuNai0D94UwZdJCngPw==\",\"dtype\":\"float64\",\"shape\":[38]}}},\"id\":\"b2a7c148-ef0c-4ec6-a4fd-38ab7fcf7138\",\"type\":\"ColumnDataSource\"},{\"attributes\":{},\"id\":\"6be74f24-fca2-4b3d-9fe6-9bc4d5aa43ac\",\"type\":\"BasicTickFormatter\"},{\"attributes\":{\"callback\":null,\"column_names\":[\"y\",\"x\"],\"data\":{\"x\":{\"__ndarray__\":\"uwcAALwHAAC9BwAAvgcAAL8HAADABwAAwQcAAMIHAADDBwAAxAcAAMUHAADGBwAAxwcAAMgHAADJBwAAygcAAMsHAADMBwAAzQcAAM4HAADPBwAA0AcAANEHAADSBwAA0wcAANQHAADVBwAA1gcAANcHAADYBwAA2QcAANoHAADbBwAA3AcAAN0HAADeBwAA3wcAAOAHAAA=\",\"dtype\":\"int32\",\"shape\":[38]},\"y\":{\"__ndarray__\":\"AKaz1YTfzL8AT/8PlCTLv4D4Skqjacm/gKGWhLKux78AS+K+wfPFvwD0LfnQOMS/AJ15M+B9wr+ARsVt78LAvwDfIVD9D76/ADG5xBuaur8AhFA5OiS3vwDW561YrrO/ACh/Inc4sL8A9iwuK4WpvwCaWxdomaK/AHwUAUpbl78AkOOmhweDvwDAw2gJT3E/AKTTh0grkj8ALrtaZwGgPwCKjHEq7aY/AORdiO3YrT8AoJdPWGKyPwBOANs52LU/APtoZhtOuT8AqdHx/MO8P4ArnT7vHMA/AIJRBODXwT8A2QXK0JLDP4Avuo/BTcU/gIZuVbIIxz+A3SIbo8PIPwA01+CTfso/AIuLpoQ5zD8A4j9sdfTNP4A49DFmr88/wEfUeyu10D9Ac67eo5LRPw==\",\"dtype\":\"float64\",\"shape\":[38]}}},\"id\":\"d54c1eff-cc34-4388-9cb0-0c41d6f4a99f\",\"type\":\"ColumnDataSource\"},{\"attributes\":{},\"id\":\"d85cecd8-e290-4e78-844f-d7625dfe3572\",\"type\":\"BasicTicker\"},{\"attributes\":{\"axis_label\":\"\\u0413\\u0440\\u0430\\u0434\\u0443\\u0441\\u0438 (\\u00b0C)\",\"axis_label_text_font_size\":{\"value\":\"12pt\"},\"axis_label_text_font_style\":\"normal\",\"formatter\":{\"id\":\"6be74f24-fca2-4b3d-9fe6-9bc4d5aa43ac\",\"type\":\"BasicTickFormatter\"},\"major_label_text_font_size\":{\"value\":\"12pt\"},\"plot\":{\"id\":\"f4f389ec-9a61-4680-add4-ccb2d7b10154\",\"subtype\":\"Figure\",\"type\":\"Plot\"},\"ticker\":{\"id\":\"c691ed4b-f87f-4321-bc7d-531f36172410\",\"type\":\"BasicTicker\"}},\"id\":\"a5302fe9-bedc-4920-aafe-5dc1999cd1ce\",\"type\":\"LinearAxis\"},{\"attributes\":{\"data_source\":{\"id\":\"97d84066-8f97-4cb1-92ef-86b37865af32\",\"type\":\"ColumnDataSource\"},\"glyph\":{\"id\":\"189f3b18-b8a9-41a1-aaba-5a501283de62\",\"type\":\"Line\"},\"hover_glyph\":null,\"nonselection_glyph\":{\"id\":\"45c0a33a-0cbb-4221-a62f-f418ac03438c\",\"type\":\"Line\"},\"selection_glyph\":null},\"id\":\"c57ace64-829c-4f40-887d-5ab8f5929675\",\"type\":\"GlyphRenderer\"},{\"attributes\":{\"line_color\":{\"value\":\"orange\"},\"line_dash\":[6],\"line_width\":{\"value\":2},\"x\":{\"field\":\"x\"},\"y\":{\"field\":\"y\"}},\"id\":\"b588b9bb-358f-4349-a981-63baab43ae9e\",\"type\":\"Line\"},{\"attributes\":{\"children\":[{\"id\":\"f4f389ec-9a61-4680-add4-ccb2d7b10154\",\"subtype\":\"Figure\",\"type\":\"Plot\"},{\"id\":\"1b99013c-56cf-4814-ac4d-ffd3827d3770\",\"type\":\"WidgetBox\"}]},\"id\":\"7354739f-e29c-4cf7-827b-ec1c2fb21081\",\"type\":\"Row\"},{\"attributes\":{\"line_alpha\":{\"value\":0.1},\"line_color\":{\"value\":\"#1f77b4\"},\"line_dash\":[6],\"line_width\":{\"value\":2},\"x\":{\"field\":\"x\"},\"y\":{\"field\":\"y\"}},\"id\":\"e5513e19-90b9-45fe-a0f2-9d5bf8da48fd\",\"type\":\"Line\"},{\"attributes\":{\"callback\":null,\"column_names\":[\"source\",\"anomaly\",\"year\"],\"data\":{\"anomaly\":{\"__ndarray__\":\"HrEs+n8kzr9cLbNXgZbJv3MGgk/VecO/6AN6f0cF0r/mxdv78o25v7Rel5KDndO/8Pa+fGOm1L9GVORfLbPPv25OZIR7Frq/MkSN4ArZt7/kirTJMFDGv4CRomxVw2w/yN+anYHgo7/6Y4PBhDPIvyWkcfebxcK/Dvfjpw/otb8gJeIPe/CcP6TXpeRg57y/AGFVDLmOuD9unxl1SzbPP0BGbhHJLow/AFmneztNZz/MA1VUm8PCP6b9075XOMo/6rPHvCyxyz/oiECmU+LDP3MZmbxQItA/tjls5kEYyz+EIto/7XvJP0xC0CBn1rk/ug7lz2hJyz9xp+kCwO3QP/B7haNvg8A/ZqzUdy+Vxj++1qK2qxvMP3EZmbxQItI/3QCVZkL13T9RhcfgncvePw==\",\"dtype\":\"float64\",\"shape\":[38]},\"source\":[\"HadCRU\",\"HadCRU\",\"HadCRU\",\"HadCRU\",\"HadCRU\",\"HadCRU\",\"HadCRU\",\"HadCRU\",\"HadCRU\",\"HadCRU\",\"HadCRU\",\"HadCRU\",\"HadCRU\",\"HadCRU\",\"HadCRU\",\"HadCRU\",\"HadCRU\",\"HadCRU\",\"HadCRU\",\"HadCRU\",\"HadCRU\",\"HadCRU\",\"HadCRU\",\"HadCRU\",\"HadCRU\",\"HadCRU\",\"HadCRU\",\"HadCRU\",\"HadCRU\",\"HadCRU\",\"HadCRU\",\"HadCRU\",\"HadCRU\",\"HadCRU\",\"HadCRU\",\"HadCRU\",\"HadCRU\",\"HadCRU\"],\"year\":{\"__ndarray__\":\"uwcAALwHAAC9BwAAvgcAAL8HAADABwAAwQcAAMIHAADDBwAAxAcAAMUHAADGBwAAxwcAAMgHAADJBwAAygcAAMsHAADMBwAAzQcAAM4HAADPBwAA0AcAANEHAADSBwAA0wcAANQHAADVBwAA1gcAANcHAADYBwAA2QcAANoHAADbBwAA3AcAAN0HAADeBwAA3wcAAOAHAAA=\",\"dtype\":\"int32\",\"shape\":[38]}}},\"id\":\"3416afd5-c5f9-46f1-ad53-634c51342354\",\"type\":\"ColumnDataSource\"},{\"attributes\":{\"line_alpha\":{\"value\":0.1},\"line_color\":{\"value\":\"#1f77b4\"},\"x\":{\"field\":\"x\"},\"y\":{\"field\":\"y\"}},\"id\":\"1b3c6197-6115-45dc-b951-8cb5ee9aa752\",\"type\":\"Line\"},{\"attributes\":{\"args\":{\"checkbox\":{\"id\":\"6146f502-06cf-421c-bf08-35cd4bfd877a\",\"type\":\"CheckboxGroup\"},\"p00\":{\"id\":\"f215fcf5-c9b3-4df9-85c4-b2d8b56af227\",\"type\":\"GlyphRenderer\"},\"p01\":{\"id\":\"72fe84f5-9980-4cc9-9698-81097874367f\",\"type\":\"GlyphRenderer\"},\"p02\":{\"id\":\"44183c9b-8796-4723-9a23-1d71f7d445bb\",\"type\":\"GlyphRenderer\"},\"p10\":{\"id\":\"0258cab4-0f7d-4dd2-87fd-b18b7ade3059\",\"type\":\"GlyphRenderer\"},\"p11\":{\"id\":\"b14a9eef-22f3-4af1-9c57-f200e7321210\",\"type\":\"GlyphRenderer\"},\"p12\":{\"id\":\"69b929c6-e4fb-4725-b690-28467b9a35e6\",\"type\":\"GlyphRenderer\"},\"p20\":{\"id\":\"4c8a5c44-2e50-4fb3-b1c8-58b7a5f21d67\",\"type\":\"GlyphRenderer\"},\"p21\":{\"id\":\"5616b5a6-5c64-456d-8199-b11301613c00\",\"type\":\"GlyphRenderer\"},\"p22\":{\"id\":\"c57ace64-829c-4f40-887d-5ab8f5929675\",\"type\":\"GlyphRenderer\"},\"p30\":{\"id\":\"8b88d3c3-a471-477f-8dee-05451db1e61a\",\"type\":\"GlyphRenderer\"},\"p31\":{\"id\":\"0f254478-36f4-44c3-88b3-ae13e276f9f9\",\"type\":\"GlyphRenderer\"},\"p32\":{\"id\":\"16b0ef59-deba-4d83-9c25-ffbf8d7e1075\",\"type\":\"GlyphRenderer\"},\"p40\":{\"id\":\"cf30d3bd-8df0-4ff1-96c2-4637dc4d71d3\",\"type\":\"GlyphRenderer\"},\"p41\":{\"id\":\"cf4b1047-92ee-4bde-b12d-866396a709ce\",\"type\":\"GlyphRenderer\"},\"p42\":{\"id\":\"f918ef9e-630e-4624-bbc6-d6ded9828231\",\"type\":\"GlyphRenderer\"}},\"code\":\"\\nvar indexOf = [].indexOf || function(item) { for (var i = 0, l = this.length; i < l; i++) { if (i in this && this[i] === item) return i; } return -1; };                             \\np00.visible = indexOf.call(checkbox.active,0)>=0;\\np01.visible = indexOf.call(checkbox.active,0)>=0;\\np02.visible = indexOf.call(checkbox.active,0)>=0;\\np10.visible = indexOf.call(checkbox.active,1)>=0;\\np11.visible = indexOf.call(checkbox.active,1)>=0;\\np12.visible = indexOf.call(checkbox.active,1)>=0;\\np20.visible = indexOf.call(checkbox.active,2)>=0;\\np21.visible = indexOf.call(checkbox.active,2)>=0;\\np22.visible = indexOf.call(checkbox.active,2)>=0;\\np30.visible = indexOf.call(checkbox.active,3)>=0;\\np31.visible = indexOf.call(checkbox.active,3)>=0;\\np32.visible = indexOf.call(checkbox.active,3)>=0;\\np40.visible = indexOf.call(checkbox.active,4)>=0;\\np41.visible = indexOf.call(checkbox.active,4)>=0;\\np42.visible = indexOf.call(checkbox.active,4)>=0;\\n\"},\"id\":\"faac9894-31fc-40ca-9bd9-53af95caf919\",\"type\":\"CustomJS\"},{\"attributes\":{\"plot\":{\"id\":\"f4f389ec-9a61-4680-add4-ccb2d7b10154\",\"subtype\":\"Figure\",\"type\":\"Plot\"}},\"id\":\"5c58feaf-95e0-455a-9c79-d6f83544c999\",\"type\":\"ResizeTool\"},{\"attributes\":{\"fill_color\":{\"value\":\"blue\"},\"line_color\":{\"value\":\"#1f77b4\"},\"size\":{\"units\":\"screen\",\"value\":8},\"x\":{\"field\":\"year\"},\"y\":{\"field\":\"anomaly\"}},\"id\":\"d2517c2f-bc61-499c-971d-d492faedba4b\",\"type\":\"Circle\"},{\"attributes\":{\"data_source\":{\"id\":\"1b0b53a6-3239-448e-a991-65d2786f83d2\",\"type\":\"ColumnDataSource\"},\"glyph\":{\"id\":\"b6e7af38-6ca9-444d-9c7d-f9117363f579\",\"type\":\"Line\"},\"hover_glyph\":null,\"nonselection_glyph\":{\"id\":\"d1af61ae-bcb0-44ae-9c6f-3323f476cd2a\",\"type\":\"Line\"},\"selection_glyph\":null},\"id\":\"69b929c6-e4fb-4725-b690-28467b9a35e6\",\"type\":\"GlyphRenderer\"},{\"attributes\":{\"callback\":null,\"column_names\":[\"x\",\"y\"],\"data\":{\"x\":{\"__ndarray__\":\"uwcAALwHAAC9BwAAvgcAAL8HAADABwAAwQcAAMIHAADDBwAAxAcAAMUHAADGBwAAxwcAAMgHAADJBwAAygcAAMsHAADMBwAAzQcAAM4HAADPBwAA0AcAANEHAADSBwAA0wcAANQHAADVBwAA1gcAANcHAADYBwAA2QcAANoHAADbBwAA3AcAAN0HAADeBwAA3wcAAOAHAAA=\",\"dtype\":\"int32\",\"shape\":[38]},\"y\":{\"__ndarray__\":\"W/zP1hB+yr9wR06I9ZXFv9xK677F/8C/HO1WWvct0L98i//ZGsK3vyInxPrKNNK//mdrCD8P078JRLFRJSzKv6iExWx67rC/eGUanOoFrr9m03NHTojBvwDMQx5fBjS/sOm5IyfEmr+EWF+ZBqfGvwBtDeHnIcO/QLuV1n2Lt79Ay8cq9COaP2RAgSg2qry/LIJ0ACbltT8GMCnvgeHJP8B3CmqWj4U/wFQvcBcleb9sKYJ0ACa9P97TmSyMuMU/Pp3Jwogbxz+OuLF3CmrCP8rCiBt7p8w/5uSqPZ3Jxj/S/PW7Tq7GP7ynM1kYcbs/HhjecND8yT9H3Ng7BTXRP8KIG3unoMI/apaPVehHyD8ujLixdwrOP7u2GeMSqdM/29g7BTXL3T+c5WMV+hHgPw==\",\"dtype\":\"float64\",\"shape\":[38]}}},\"id\":\"15388407-5aff-4fdd-b02d-0f56f6cea8c4\",\"type\":\"ColumnDataSource\"},{\"attributes\":{\"data_source\":{\"id\":\"b2a7c148-ef0c-4ec6-a4fd-38ab7fcf7138\",\"type\":\"ColumnDataSource\"},\"glyph\":{\"id\":\"2662777b-e291-4d0c-8f12-6a2ae6f0ec83\",\"type\":\"Line\"},\"hover_glyph\":null,\"nonselection_glyph\":{\"id\":\"1b3c6197-6115-45dc-b951-8cb5ee9aa752\",\"type\":\"Line\"},\"selection_glyph\":null},\"id\":\"cf30d3bd-8df0-4ff1-96c2-4637dc4d71d3\",\"type\":\"GlyphRenderer\"},{\"attributes\":{\"callback\":null,\"column_names\":[\"x\",\"y\"],\"data\":{\"x\":{\"__ndarray__\":\"uwcAALwHAAC9BwAAvgcAAL8HAADABwAAwQcAAMIHAADDBwAAxAcAAMUHAADGBwAAxwcAAMgHAADJBwAAygcAAMsHAADMBwAAzQcAAM4HAADPBwAA0AcAANEHAADSBwAA0wcAANQHAADVBwAA1gcAANcHAADYBwAA2QcAANoHAADbBwAA3AcAAN0HAADeBwAA3wcAAOAHAAA=\",\"dtype\":\"int32\",\"shape\":[38]},\"y\":{\"__ndarray__\":\"HrEs+n8kzr9cLbNXgZbJv3MGgk/VecO/6AN6f0cF0r/mxdv78o25v7Rel5KDndO/8Pa+fGOm1L9GVORfLbPPv25OZIR7Frq/MkSN4ArZt7/kirTJMFDGv4CRomxVw2w/yN+anYHgo7/6Y4PBhDPIvyWkcfebxcK/Dvfjpw/otb8gJeIPe/CcP6TXpeRg57y/AGFVDLmOuD9unxl1SzbPP0BGbhHJLow/AFmneztNZz/MA1VUm8PCP6b9075XOMo/6rPHvCyxyz/oiECmU+LDP3MZmbxQItA/tjls5kEYyz+EIto/7XvJP0xC0CBn1rk/ug7lz2hJyz9xp+kCwO3QP/B7haNvg8A/ZqzUdy+Vxj++1qK2qxvMP3EZmbxQItI/3QCVZkL13T9RhcfgncvePw==\",\"dtype\":\"float64\",\"shape\":[38]}}},\"id\":\"df5765a3-030a-45fe-84ec-ced3752f953e\",\"type\":\"ColumnDataSource\"},{\"attributes\":{\"children\":[{\"id\":\"6146f502-06cf-421c-bf08-35cd4bfd877a\",\"type\":\"CheckboxGroup\"}],\"width\":100},\"id\":\"1b99013c-56cf-4814-ac4d-ffd3827d3770\",\"type\":\"WidgetBox\"},{\"attributes\":{\"fill_alpha\":{\"value\":0.1},\"fill_color\":{\"value\":\"#1f77b4\"},\"line_alpha\":{\"value\":0.1},\"line_color\":{\"value\":\"#1f77b4\"},\"size\":{\"units\":\"screen\",\"value\":8},\"x\":{\"field\":\"year\"},\"y\":{\"field\":\"anomaly\"}},\"id\":\"fa2e5a3f-4f32-4892-addb-a344a992d8fa\",\"type\":\"Circle\"},{\"attributes\":{\"fill_color\":{\"value\":\"orange\"},\"line_color\":{\"value\":\"#1f77b4\"},\"size\":{\"units\":\"screen\",\"value\":8},\"x\":{\"field\":\"year\"},\"y\":{\"field\":\"anomaly\"}},\"id\":\"871f0120-bfb6-4118-bee8-1e5e9d2db926\",\"type\":\"Circle\"},{\"attributes\":{},\"id\":\"a8da8b44-0b22-4d06-a317-71ca89d34078\",\"type\":\"ToolEvents\"},{\"attributes\":{\"line_alpha\":{\"value\":0.1},\"line_color\":{\"value\":\"#1f77b4\"},\"x\":{\"field\":\"x\"},\"y\":{\"field\":\"y\"}},\"id\":\"af1eb6dd-a508-4362-8fbf-bd854c308de9\",\"type\":\"Line\"},{\"attributes\":{\"plot\":{\"id\":\"f4f389ec-9a61-4680-add4-ccb2d7b10154\",\"subtype\":\"Figure\",\"type\":\"Plot\"},\"ticker\":{\"id\":\"d85cecd8-e290-4e78-844f-d7625dfe3572\",\"type\":\"BasicTicker\"}},\"id\":\"dcd0d94e-c9cc-482e-ad83-a0004f5d0a87\",\"type\":\"Grid\"},{\"attributes\":{\"callback\":null,\"column_names\":[\"x\",\"y\"],\"data\":{\"x\":{\"__ndarray__\":\"uwcAALwHAAC9BwAAvgcAAL8HAADABwAAwQcAAMIHAADDBwAAxAcAAMUHAADGBwAAxwcAAMgHAADJBwAAygcAAMsHAADMBwAAzQcAAM4HAADPBwAA0AcAANEHAADSBwAA0wcAANQHAADVBwAA1gcAANcHAADYBwAA2QcAANoHAADbBwAA3AcAAN0HAADeBwAA3wcAAOAHAAA=\",\"dtype\":\"int32\",\"shape\":[38]},\"y\":{\"__ndarray__\":\"LUoy52i30L8gJ8T6yjTEv/jP1hB+Hrq/hjy+DCgQ079mawg/D3nAvyRzjnYrrdG/fGUanOoF1L95GVAgio3Ov0ROiPWVabi/wC5KMudol7/INDjVC9zBv8BrmzEukYo/AMym546cYL+uTINTvcDJv93if7aG8Me/UMJiNj13vL+gw0Hz1++aP/gJRLFRJbS/mK5txrhEqj9+DwxvOGjKPwBJ5hztVoq/gHqBuyjJfL8cGN5w0Py9Pw5vOGj++sk/QgU1y8cqyD+8dwpqlo+9P09nsjDixtA/8oaD5q/fyT9ComubMS7NP7wUQToAk7o/cjho/vpdyz+nvAeGNxzSPyLjEqmlCMY/Rj+ia5sxyj/y6UwWRtzMP5UOwKS8B9Q/WT5WoR/R2z9CzfKxCv3hPw==\",\"dtype\":\"float64\",\"shape\":[38]}}},\"id\":\"6e6f3744-fdd7-4abd-8041-d51f320520aa\",\"type\":\"ColumnDataSource\"},{\"attributes\":{\"callback\":null,\"names\":[\"scatter\"],\"plot\":{\"id\":\"f4f389ec-9a61-4680-add4-ccb2d7b10154\",\"subtype\":\"Figure\",\"type\":\"Plot\"},\"tooltips\":[[\"\\u0413\\u043e\\u0434\\u0438\\u043d\\u0430\",\"@year\"],[\"\\u041e\\u0442\\u043a\\u043b\\u043e\\u043d\\u0435\\u043d\\u0438\\u0435\",\"@anomaly{1.11}\"],[\"\\u0418\\u0437\\u0442\\u043e\\u0447\\u043d\\u0438\\u043a\",\"@source\"]]},\"id\":\"7fdd72cb-5a34-43b1-9229-94e847108cca\",\"type\":\"HoverTool\"},{\"attributes\":{\"label\":{\"value\":\"HadCRU\"},\"renderers\":[{\"id\":\"4c8a5c44-2e50-4fb3-b1c8-58b7a5f21d67\",\"type\":\"GlyphRenderer\"},{\"id\":\"5616b5a6-5c64-456d-8199-b11301613c00\",\"type\":\"GlyphRenderer\"}]},\"id\":\"9a29c90e-4f7e-4bf4-a832-64a2b1f91252\",\"type\":\"LegendItem\"},{\"attributes\":{\"fill_alpha\":{\"value\":0.1},\"fill_color\":{\"value\":\"#1f77b4\"},\"line_alpha\":{\"value\":0.1},\"line_color\":{\"value\":\"#1f77b4\"},\"size\":{\"units\":\"screen\",\"value\":8},\"x\":{\"field\":\"year\"},\"y\":{\"field\":\"anomaly\"}},\"id\":\"a16e4421-cecb-4007-b183-23e01b9841cf\",\"type\":\"Circle\"},{\"attributes\":{\"data_source\":{\"id\":\"df5765a3-030a-45fe-84ec-ced3752f953e\",\"type\":\"ColumnDataSource\"},\"glyph\":{\"id\":\"18579727-2c1d-4df1-81a0-5f736f22f123\",\"type\":\"Line\"},\"hover_glyph\":null,\"nonselection_glyph\":{\"id\":\"52134b91-ed9f-4f4a-bced-4baa50ae6d6a\",\"type\":\"Line\"},\"selection_glyph\":null},\"id\":\"4c8a5c44-2e50-4fb3-b1c8-58b7a5f21d67\",\"type\":\"GlyphRenderer\"},{\"attributes\":{\"callback\":null,\"column_names\":[\"source\",\"anomaly\",\"year\"],\"data\":{\"anomaly\":{\"__ndarray__\":\"W/zP1hB+yr9wR06I9ZXFv9xK677F/8C/HO1WWvct0L98i//ZGsK3vyInxPrKNNK//mdrCD8P078JRLFRJSzKv6iExWx67rC/eGUanOoFrr9m03NHTojBvwDMQx5fBjS/sOm5IyfEmr+EWF+ZBqfGvwBtDeHnIcO/QLuV1n2Lt79Ay8cq9COaP2RAgSg2qry/LIJ0ACbltT8GMCnvgeHJP8B3CmqWj4U/wFQvcBcleb9sKYJ0ACa9P97TmSyMuMU/Pp3Jwogbxz+OuLF3CmrCP8rCiBt7p8w/5uSqPZ3Jxj/S/PW7Tq7GP7ynM1kYcbs/HhjecND8yT9H3Ng7BTXRP8KIG3unoMI/apaPVehHyD8ujLixdwrOP7u2GeMSqdM/29g7BTXL3T+c5WMV+hHgPw==\",\"dtype\":\"float64\",\"shape\":[38]},\"source\":[\"NOAA NCDC\",\"NOAA NCDC\",\"NOAA NCDC\",\"NOAA NCDC\",\"NOAA NCDC\",\"NOAA NCDC\",\"NOAA NCDC\",\"NOAA NCDC\",\"NOAA NCDC\",\"NOAA NCDC\",\"NOAA NCDC\",\"NOAA NCDC\",\"NOAA NCDC\",\"NOAA NCDC\",\"NOAA NCDC\",\"NOAA NCDC\",\"NOAA NCDC\",\"NOAA NCDC\",\"NOAA NCDC\",\"NOAA NCDC\",\"NOAA NCDC\",\"NOAA NCDC\",\"NOAA NCDC\",\"NOAA NCDC\",\"NOAA NCDC\",\"NOAA NCDC\",\"NOAA NCDC\",\"NOAA NCDC\",\"NOAA NCDC\",\"NOAA NCDC\",\"NOAA NCDC\",\"NOAA NCDC\",\"NOAA NCDC\",\"NOAA NCDC\",\"NOAA NCDC\",\"NOAA NCDC\",\"NOAA NCDC\",\"NOAA NCDC\"],\"year\":{\"__ndarray__\":\"uwcAALwHAAC9BwAAvgcAAL8HAADABwAAwQcAAMIHAADDBwAAxAcAAMUHAADGBwAAxwcAAMgHAADJBwAAygcAAMsHAADMBwAAzQcAAM4HAADPBwAA0AcAANEHAADSBwAA0wcAANQHAADVBwAA1gcAANcHAADYBwAA2QcAANoHAADbBwAA3AcAAN0HAADeBwAA3wcAAOAHAAA=\",\"dtype\":\"int32\",\"shape\":[38]}}},\"id\":\"335e7389-1675-43af-9fd3-40c4b5e70f2d\",\"type\":\"ColumnDataSource\"},{\"attributes\":{\"line_alpha\":{\"value\":0.1},\"line_color\":{\"value\":\"#1f77b4\"},\"line_dash\":[6],\"line_width\":{\"value\":2},\"x\":{\"field\":\"x\"},\"y\":{\"field\":\"y\"}},\"id\":\"d1af61ae-bcb0-44ae-9c6f-3323f476cd2a\",\"type\":\"Line\"},{\"attributes\":{\"callback\":null,\"column_names\":[\"y\",\"x\"],\"data\":{\"x\":{\"__ndarray__\":\"uwcAALwHAAC9BwAAvgcAAL8HAADABwAAwQcAAMIHAADDBwAAxAcAAMUHAADGBwAAxwcAAMgHAADJBwAAygcAAMsHAADMBwAAzQcAAM4HAADPBwAA0AcAANEHAADSBwAA0wcAANQHAADVBwAA1gcAANcHAADYBwAA2QcAANoHAADbBwAA3AcAAN0HAADeBwAA3wcAAOAHAAA=\",\"dtype\":\"int32\",\"shape\":[38]},\"y\":{\"__ndarray__\":\"gBByvjvV0L8AgAXsHpTPvwDfJlvGfc2/AD1Iym1ny78AnGk5FVHJvwD6iqi8Ose/AFmsF2Qkxb8AuM2GCw7DvwAW7/Wy98C/AOogyrTCvb8ApmOoA5a5vwBkpoZSabW/ACLpZKE8sb8AvFeG4B+qvwA43UJ+xqG/AGDF/jfakr8AwIK+mzthvwBgSR6iFo0/AMAZlhU+nz8AZIcObfinPwD2AKnnKLA/ADi+yphVtD8AenvsSYK4PwC+OA77rrw/AAD7F9ZtwD8AotmoLoTCPwBDuDmHmsQ/AOSWyt+wxj8AhnVbOMfIPwAnVOyQ3co/AMkyfenzzD8AahEOQgrPP4AFeE9NkNA/gFbnl3mb0T8Ap1bgpabSPwD4xSjSsdM/gEg1cf681D8AmaS5KsjVPw==\",\"dtype\":\"float64\",\"shape\":[38]}}},\"id\":\"1b0b53a6-3239-448e-a991-65d2786f83d2\",\"type\":\"ColumnDataSource\"},{\"attributes\":{\"line_color\":{\"value\":\"blue\"},\"line_dash\":[6],\"line_width\":{\"value\":2},\"x\":{\"field\":\"x\"},\"y\":{\"field\":\"y\"}},\"id\":\"189f3b18-b8a9-41a1-aaba-5a501283de62\",\"type\":\"Line\"},{\"attributes\":{\"fill_color\":{\"value\":\"red\"},\"line_color\":{\"value\":\"#1f77b4\"},\"size\":{\"units\":\"screen\",\"value\":8},\"x\":{\"field\":\"year\"},\"y\":{\"field\":\"anomaly\"}},\"id\":\"5ae139d6-2e98-4c74-a40b-60d8adda1c11\",\"type\":\"Circle\"},{\"attributes\":{\"callback\":null,\"column_names\":[\"source\",\"anomaly\",\"year\"],\"data\":{\"anomaly\":{\"__ndarray__\":\"LUoy52i30L8gJ8T6yjTEv/jP1hB+Hrq/hjy+DCgQ079mawg/D3nAvyRzjnYrrdG/fGUanOoF1L95GVAgio3Ov0ROiPWVabi/wC5KMudol7/INDjVC9zBv8BrmzEukYo/AMym546cYL+uTINTvcDJv93if7aG8Me/UMJiNj13vL+gw0Hz1++aP/gJRLFRJbS/mK5txrhEqj9+DwxvOGjKPwBJ5hztVoq/gHqBuyjJfL8cGN5w0Py9Pw5vOGj++sk/QgU1y8cqyD+8dwpqlo+9P09nsjDixtA/8oaD5q/fyT9ComubMS7NP7wUQToAk7o/cjho/vpdyz+nvAeGNxzSPyLjEqmlCMY/Rj+ia5sxyj/y6UwWRtzMP5UOwKS8B9Q/WT5WoR/R2z9CzfKxCv3hPw==\",\"dtype\":\"float64\",\"shape\":[38]},\"source\":[\"NASA GISTEMP\",\"NASA GISTEMP\",\"NASA GISTEMP\",\"NASA GISTEMP\",\"NASA GISTEMP\",\"NASA GISTEMP\",\"NASA GISTEMP\",\"NASA GISTEMP\",\"NASA GISTEMP\",\"NASA GISTEMP\",\"NASA GISTEMP\",\"NASA GISTEMP\",\"NASA GISTEMP\",\"NASA GISTEMP\",\"NASA GISTEMP\",\"NASA GISTEMP\",\"NASA GISTEMP\",\"NASA GISTEMP\",\"NASA GISTEMP\",\"NASA GISTEMP\",\"NASA GISTEMP\",\"NASA GISTEMP\",\"NASA GISTEMP\",\"NASA GISTEMP\",\"NASA GISTEMP\",\"NASA GISTEMP\",\"NASA GISTEMP\",\"NASA GISTEMP\",\"NASA GISTEMP\",\"NASA GISTEMP\",\"NASA GISTEMP\",\"NASA GISTEMP\",\"NASA GISTEMP\",\"NASA GISTEMP\",\"NASA GISTEMP\",\"NASA GISTEMP\",\"NASA GISTEMP\",\"NASA GISTEMP\"],\"year\":{\"__ndarray__\":\"uwcAALwHAAC9BwAAvgcAAL8HAADABwAAwQcAAMIHAADDBwAAxAcAAMUHAADGBwAAxwcAAMgHAADJBwAAygcAAMsHAADMBwAAzQcAAM4HAADPBwAA0AcAANEHAADSBwAA0wcAANQHAADVBwAA1gcAANcHAADYBwAA2QcAANoHAADbBwAA3AcAAN0HAADeBwAA3wcAAOAHAAA=\",\"dtype\":\"int32\",\"shape\":[38]}}},\"id\":\"c537e5c1-7bfa-4533-9388-6caa79be48f6\",\"type\":\"ColumnDataSource\"},{\"attributes\":{},\"id\":\"c691ed4b-f87f-4321-bc7d-531f36172410\",\"type\":\"BasicTicker\"},{\"attributes\":{\"items\":[{\"id\":\"caa6716e-57b9-4e75-b5f4-00e73000b0bb\",\"type\":\"LegendItem\"},{\"id\":\"482a78d6-6074-4ab2-87c2-933b7226b2e2\",\"type\":\"LegendItem\"},{\"id\":\"9a29c90e-4f7e-4bf4-a832-64a2b1f91252\",\"type\":\"LegendItem\"},{\"id\":\"4d3e34c2-d6e3-4432-a8fa-b5eac82c9b1f\",\"type\":\"LegendItem\"},{\"id\":\"909ac19f-5ed0-4ba0-8da9-d71bd94a87f8\",\"type\":\"LegendItem\"}],\"location\":\"top_left\",\"plot\":{\"id\":\"f4f389ec-9a61-4680-add4-ccb2d7b10154\",\"subtype\":\"Figure\",\"type\":\"Plot\"}},\"id\":\"63861ba4-16b5-4c8a-995d-217a8cd93f50\",\"type\":\"Legend\"},{\"attributes\":{\"plot\":{\"id\":\"f4f389ec-9a61-4680-add4-ccb2d7b10154\",\"subtype\":\"Figure\",\"type\":\"Plot\"}},\"id\":\"c85c622e-049e-4725-8f37-4b7587091fc9\",\"type\":\"SaveTool\"},{\"attributes\":{\"axis_label\":\"\\u0413\\u043e\\u0434\\u0438\\u043d\\u0430\",\"axis_label_text_font_size\":{\"value\":\"12pt\"},\"axis_label_text_font_style\":\"normal\",\"formatter\":{\"id\":\"ee322d6d-14b3-4e73-b188-5c3c4fd3ccbb\",\"type\":\"BasicTickFormatter\"},\"major_label_text_font_size\":{\"value\":\"12pt\"},\"plot\":{\"id\":\"f4f389ec-9a61-4680-add4-ccb2d7b10154\",\"subtype\":\"Figure\",\"type\":\"Plot\"},\"ticker\":{\"id\":\"d85cecd8-e290-4e78-844f-d7625dfe3572\",\"type\":\"BasicTicker\"}},\"id\":\"ea603694-5c6c-4d91-a76f-8596f7533d8b\",\"type\":\"LinearAxis\"},{\"attributes\":{\"overlay\":{\"id\":\"0b024e41-7922-49aa-865e-800e293347ad\",\"type\":\"BoxAnnotation\"},\"plot\":{\"id\":\"f4f389ec-9a61-4680-add4-ccb2d7b10154\",\"subtype\":\"Figure\",\"type\":\"Plot\"}},\"id\":\"da92d221-60a6-4ca1-b129-ec56662931c6\",\"type\":\"BoxZoomTool\"},{\"attributes\":{\"data_source\":{\"id\":\"3416afd5-c5f9-46f1-ad53-634c51342354\",\"type\":\"ColumnDataSource\"},\"glyph\":{\"id\":\"d2517c2f-bc61-499c-971d-d492faedba4b\",\"type\":\"Circle\"},\"hover_glyph\":null,\"name\":\"scatter\",\"nonselection_glyph\":{\"id\":\"4296bac0-3e36-4977-aafe-134ad3042b1e\",\"type\":\"Circle\"},\"selection_glyph\":null},\"id\":\"5616b5a6-5c64-456d-8199-b11301613c00\",\"type\":\"GlyphRenderer\"},{\"attributes\":{\"data_source\":{\"id\":\"ed728e12-21a1-4306-b820-83343c8093d7\",\"type\":\"ColumnDataSource\"},\"glyph\":{\"id\":\"ee8b537f-88d8-41a3-b0de-f16a93044a57\",\"type\":\"Line\"},\"hover_glyph\":null,\"nonselection_glyph\":{\"id\":\"af1eb6dd-a508-4362-8fbf-bd854c308de9\",\"type\":\"Line\"},\"selection_glyph\":null},\"id\":\"8b88d3c3-a471-477f-8dee-05451db1e61a\",\"type\":\"GlyphRenderer\"},{\"attributes\":{\"callback\":null,\"column_names\":[\"y\",\"x\"],\"data\":{\"x\":{\"__ndarray__\":\"uwcAALwHAAC9BwAAvgcAAL8HAADABwAAwQcAAMIHAADDBwAAxAcAAMUHAADGBwAAxwcAAMgHAADJBwAAygcAAMsHAADMBwAAzQcAAM4HAADPBwAA0AcAANEHAADSBwAA0wcAANQHAADVBwAA1gcAANcHAADYBwAA2QcAANoHAADbBwAA3AcAAN0HAADeBwAA3wcAAOAHAAA=\",\"dtype\":\"int32\",\"shape\":[38]},\"y\":{\"__ndarray__\":\"gFC8E+bt0b8AP2h1ANPQvwBaKK41cM+/ADeAcWo6zb8AFNg0nwTLvwDwL/jTzsi/AM2HuwiZxr8Aqd9+PWPEvwCGN0JyLcK/AMYeC07vv78Afs6Rt4O7vwA4fhghGLe/APItn4qssr8AVLtL6IGsvwDIGlm7qqO/AHj0zBynlb8AwJo9F8ZvvwCAG/sta4s/AODO4vBjnz8A/AdkJYmoPwBEVCspsLA/AIykpL8btT8A0vQdVoe5PwAYRZfs8r0/ALBKiEEvwT8A0/LEDGXDPwD2mgHYmsU/ABpDPqPQxz8APet6bgbKPwBhk7c5PMw/AIQ79ARyzj+A03EY6FPQP4DlxbbNbtE/APcZVbOJ0j+ACG7zmKTTP4AawpF+v9Q/ACwWMGTa1T+APWrOSfXWPw==\",\"dtype\":\"float64\",\"shape\":[38]}}},\"id\":\"17aafa57-bf3f-4fd3-bcf1-d7e7b18f8fa4\",\"type\":\"ColumnDataSource\"},{\"attributes\":{\"plot\":{\"id\":\"f4f389ec-9a61-4680-add4-ccb2d7b10154\",\"subtype\":\"Figure\",\"type\":\"Plot\"}},\"id\":\"c6eeb7bd-e027-4578-8a32-9f5b10144faa\",\"type\":\"ResetTool\"},{\"attributes\":{\"fill_color\":{\"value\":\"yellow\"},\"line_color\":{\"value\":\"#1f77b4\"},\"size\":{\"units\":\"screen\",\"value\":8},\"x\":{\"field\":\"year\"},\"y\":{\"field\":\"anomaly\"}},\"id\":\"4caa4ed8-838e-4bf7-a505-b566280d000e\",\"type\":\"Circle\"},{\"attributes\":{\"line_color\":{\"value\":\"blue\"},\"x\":{\"field\":\"x\"},\"y\":{\"field\":\"y\"}},\"id\":\"18579727-2c1d-4df1-81a0-5f736f22f123\",\"type\":\"Line\"},{\"attributes\":{\"fill_color\":{\"value\":\"black\"},\"line_color\":{\"value\":\"#1f77b4\"},\"size\":{\"units\":\"screen\",\"value\":8},\"x\":{\"field\":\"year\"},\"y\":{\"field\":\"anomaly\"}},\"id\":\"ae884485-e834-4edd-b519-6885a5d61635\",\"type\":\"Circle\"},{\"attributes\":{\"callback\":null,\"column_names\":[\"source\",\"anomaly\",\"year\"],\"data\":{\"anomaly\":{\"__ndarray__\":\"/atl9irQyr8W/T8SpzGlv5NjFECAbry/7335xkzx0r80EHyqzhulv8YGgwlnaM6/5hgFEKAb17/9HRWwuwTMv2tR29UNUKk/pAWkTMzvoz+NtYPCPsXKv6thDuQV14o/Kj80pChblT9UnTeK+/HRvz5++oDe38m/TfRI5WJbsL+aB2EMcPKxP48Lku/wYoK/M6nKM35Dfb/MEjvelfvePzwnMsI9C5G/nX6ynqk5lb/LDw0pyla9P1obnxi7ucs/r/5EtH/axz9ixUdPQoe0Px4RyHRKfMk/elfuo94EvT/u7HrLEYHEPwWhHhck37m/O5Q/oyUtuD85sw7lz2jVP1cNcyCvuJY/ACO3iGQXrj8WHoN3LtvAPw/kFdda1MY/cyCvuNai0D94UwZdJCngPw==\",\"dtype\":\"float64\",\"shape\":[38]},\"source\":[\"UAH\",\"UAH\",\"UAH\",\"UAH\",\"UAH\",\"UAH\",\"UAH\",\"UAH\",\"UAH\",\"UAH\",\"UAH\",\"UAH\",\"UAH\",\"UAH\",\"UAH\",\"UAH\",\"UAH\",\"UAH\",\"UAH\",\"UAH\",\"UAH\",\"UAH\",\"UAH\",\"UAH\",\"UAH\",\"UAH\",\"UAH\",\"UAH\",\"UAH\",\"UAH\",\"UAH\",\"UAH\",\"UAH\",\"UAH\",\"UAH\",\"UAH\",\"UAH\",\"UAH\"],\"year\":{\"__ndarray__\":\"uwcAALwHAAC9BwAAvgcAAL8HAADABwAAwQcAAMIHAADDBwAAxAcAAMUHAADGBwAAxwcAAMgHAADJBwAAygcAAMsHAADMBwAAzQcAAM4HAADPBwAA0AcAANEHAADSBwAA0wcAANQHAADVBwAA1gcAANcHAADYBwAA2QcAANoHAADbBwAA3AcAAN0HAADeBwAA3wcAAOAHAAA=\",\"dtype\":\"int32\",\"shape\":[38]}}},\"id\":\"40f668f7-4d06-4a59-b89c-6e2d9519870e\",\"type\":\"ColumnDataSource\"},{\"attributes\":{\"callback\":null,\"column_names\":[\"source\",\"anomaly\",\"year\"],\"data\":{\"anomaly\":{\"__ndarray__\":\"CV+YTBWMyL//9nXgnBG1v1+PwvUoXLO/tvDPH61E0b+UWdCOLkmgv6GJsOHpldS/dwj2crLn1r+iIItHvE/Ov4Dlifo3Qlk/bIU1qBCin7/E9Shcj8LLv8yJ1QyW15e/SOsHYsYBkb9Y711w87PRvyRpSsXZh8u/j00Yuv+1sb/i8h/Sb1+vPxLgLZCg+Km/4MJkqmBUcj/2xZJfLPncP0CMlEBdt3s/AGGeqH8jdL9ULfzzRyvDP1q07aFq4cs/di0hH/RszD+bhoIsHvG6P8qnoSCLR84/NBeSplScwT+k4uzDZ9jDP7Jp3nGKjqy/rESzxUgJwD/UVuwvuyfYPzJbjJRAXac/A6wcWmQ7tz+EMnpb1urAP7yc7HkRgMY/GHPXEvJB0j+g/o1QRm/ePw==\",\"dtype\":\"float64\",\"shape\":[38]},\"source\":[\"RSS\",\"RSS\",\"RSS\",\"RSS\",\"RSS\",\"RSS\",\"RSS\",\"RSS\",\"RSS\",\"RSS\",\"RSS\",\"RSS\",\"RSS\",\"RSS\",\"RSS\",\"RSS\",\"RSS\",\"RSS\",\"RSS\",\"RSS\",\"RSS\",\"RSS\",\"RSS\",\"RSS\",\"RSS\",\"RSS\",\"RSS\",\"RSS\",\"RSS\",\"RSS\",\"RSS\",\"RSS\",\"RSS\",\"RSS\",\"RSS\",\"RSS\",\"RSS\",\"RSS\"],\"year\":{\"__ndarray__\":\"uwcAALwHAAC9BwAAvgcAAL8HAADABwAAwQcAAMIHAADDBwAAxAcAAMUHAADGBwAAxwcAAMgHAADJBwAAygcAAMsHAADMBwAAzQcAAM4HAADPBwAA0AcAANEHAADSBwAA0wcAANQHAADVBwAA1gcAANcHAADYBwAA2QcAANoHAADbBwAA3AcAAN0HAADeBwAA3wcAAOAHAAA=\",\"dtype\":\"int32\",\"shape\":[38]}}},\"id\":\"cb20c886-1f4e-4c87-8748-52b01658d458\",\"type\":\"ColumnDataSource\"},{\"attributes\":{\"data_source\":{\"id\":\"a77999d6-7cd5-4065-a872-924dceb83108\",\"type\":\"ColumnDataSource\"},\"glyph\":{\"id\":\"b588b9bb-358f-4349-a981-63baab43ae9e\",\"type\":\"Line\"},\"hover_glyph\":null,\"nonselection_glyph\":{\"id\":\"e5513e19-90b9-45fe-a0f2-9d5bf8da48fd\",\"type\":\"Line\"},\"selection_glyph\":null},\"id\":\"f918ef9e-630e-4624-bbc6-d6ded9828231\",\"type\":\"GlyphRenderer\"},{\"attributes\":{\"line_color\":{\"value\":\"red\"},\"x\":{\"field\":\"x\"},\"y\":{\"field\":\"y\"}},\"id\":\"f3f78f64-5626-45ce-b981-3c9da31fb49d\",\"type\":\"Line\"},{\"attributes\":{\"line_dash\":[6],\"line_width\":{\"value\":2},\"x\":{\"field\":\"x\"},\"y\":{\"field\":\"y\"}},\"id\":\"6bd63d27-2ebe-4dee-8fb8-0a98e4e9c932\",\"type\":\"Line\"},{\"attributes\":{\"active\":[0,1,2,3,4],\"callback\":{\"id\":\"faac9894-31fc-40ca-9bd9-53af95caf919\",\"type\":\"CustomJS\"},\"labels\":[\"NASA GISTEMP\",\"NOAA NCDC\",\"HadCRU\",\"RSS\",\"UAH\"],\"width\":100},\"id\":\"6146f502-06cf-421c-bf08-35cd4bfd877a\",\"type\":\"CheckboxGroup\"},{\"attributes\":{\"data_source\":{\"id\":\"335e7389-1675-43af-9fd3-40c4b5e70f2d\",\"type\":\"ColumnDataSource\"},\"glyph\":{\"id\":\"5ae139d6-2e98-4c74-a40b-60d8adda1c11\",\"type\":\"Circle\"},\"hover_glyph\":null,\"name\":\"scatter\",\"nonselection_glyph\":{\"id\":\"f5cfde5f-560c-4197-8f65-d9d46c1fd0b2\",\"type\":\"Circle\"},\"selection_glyph\":null},\"id\":\"b14a9eef-22f3-4af1-9c57-f200e7321210\",\"type\":\"GlyphRenderer\"},{\"attributes\":{\"data_source\":{\"id\":\"6e6f3744-fdd7-4abd-8041-d51f320520aa\",\"type\":\"ColumnDataSource\"},\"glyph\":{\"id\":\"d5541102-5a34-42c1-8c43-52aa72e0c8db\",\"type\":\"Line\"},\"hover_glyph\":null,\"nonselection_glyph\":{\"id\":\"4525933f-caf3-425b-9969-21492c6d6a42\",\"type\":\"Line\"},\"selection_glyph\":null},\"id\":\"f215fcf5-c9b3-4df9-85c4-b2d8b56af227\",\"type\":\"GlyphRenderer\"},{\"attributes\":{\"below\":[{\"id\":\"ea603694-5c6c-4d91-a76f-8596f7533d8b\",\"type\":\"LinearAxis\"}],\"left\":[{\"id\":\"a5302fe9-bedc-4920-aafe-5dc1999cd1ce\",\"type\":\"LinearAxis\"}],\"plot_height\":400,\"plot_width\":800,\"renderers\":[{\"id\":\"ea603694-5c6c-4d91-a76f-8596f7533d8b\",\"type\":\"LinearAxis\"},{\"id\":\"dcd0d94e-c9cc-482e-ad83-a0004f5d0a87\",\"type\":\"Grid\"},{\"id\":\"a5302fe9-bedc-4920-aafe-5dc1999cd1ce\",\"type\":\"LinearAxis\"},{\"id\":\"8d4ebcbd-8e02-4c5b-91f3-9f8fdd5d6364\",\"type\":\"Grid\"},{\"id\":\"0b024e41-7922-49aa-865e-800e293347ad\",\"type\":\"BoxAnnotation\"},{\"id\":\"63861ba4-16b5-4c8a-995d-217a8cd93f50\",\"type\":\"Legend\"},{\"id\":\"f215fcf5-c9b3-4df9-85c4-b2d8b56af227\",\"type\":\"GlyphRenderer\"},{\"id\":\"72fe84f5-9980-4cc9-9698-81097874367f\",\"type\":\"GlyphRenderer\"},{\"id\":\"44183c9b-8796-4723-9a23-1d71f7d445bb\",\"type\":\"GlyphRenderer\"},{\"id\":\"0258cab4-0f7d-4dd2-87fd-b18b7ade3059\",\"type\":\"GlyphRenderer\"},{\"id\":\"b14a9eef-22f3-4af1-9c57-f200e7321210\",\"type\":\"GlyphRenderer\"},{\"id\":\"69b929c6-e4fb-4725-b690-28467b9a35e6\",\"type\":\"GlyphRenderer\"},{\"id\":\"4c8a5c44-2e50-4fb3-b1c8-58b7a5f21d67\",\"type\":\"GlyphRenderer\"},{\"id\":\"5616b5a6-5c64-456d-8199-b11301613c00\",\"type\":\"GlyphRenderer\"},{\"id\":\"c57ace64-829c-4f40-887d-5ab8f5929675\",\"type\":\"GlyphRenderer\"},{\"id\":\"8b88d3c3-a471-477f-8dee-05451db1e61a\",\"type\":\"GlyphRenderer\"},{\"id\":\"0f254478-36f4-44c3-88b3-ae13e276f9f9\",\"type\":\"GlyphRenderer\"},{\"id\":\"16b0ef59-deba-4d83-9c25-ffbf8d7e1075\",\"type\":\"GlyphRenderer\"},{\"id\":\"cf30d3bd-8df0-4ff1-96c2-4637dc4d71d3\",\"type\":\"GlyphRenderer\"},{\"id\":\"cf4b1047-92ee-4bde-b12d-866396a709ce\",\"type\":\"GlyphRenderer\"},{\"id\":\"f918ef9e-630e-4624-bbc6-d6ded9828231\",\"type\":\"GlyphRenderer\"}],\"title\":{\"id\":\"fc756dd6-f775-4f42-9546-958ac2881f02\",\"type\":\"Title\"},\"tool_events\":{\"id\":\"a8da8b44-0b22-4d06-a317-71ca89d34078\",\"type\":\"ToolEvents\"},\"toolbar\":{\"id\":\"51159ae3-efbc-4926-91d0-4939677773c0\",\"type\":\"Toolbar\"},\"x_range\":{\"id\":\"0498046d-903b-4d73-90ab-6f0e1bcadc9a\",\"type\":\"DataRange1d\"},\"y_range\":{\"id\":\"705aedf5-9c8f-4571-8ff1-a7b6adb91874\",\"type\":\"DataRange1d\"}},\"id\":\"f4f389ec-9a61-4680-add4-ccb2d7b10154\",\"subtype\":\"Figure\",\"type\":\"Plot\"},{\"attributes\":{\"line_alpha\":{\"value\":0.1},\"line_color\":{\"value\":\"#1f77b4\"},\"line_dash\":[6],\"line_width\":{\"value\":2},\"x\":{\"field\":\"x\"},\"y\":{\"field\":\"y\"}},\"id\":\"45c0a33a-0cbb-4221-a62f-f418ac03438c\",\"type\":\"Line\"},{\"attributes\":{\"line_alpha\":{\"value\":0.1},\"line_color\":{\"value\":\"#1f77b4\"},\"line_dash\":[6],\"line_width\":{\"value\":2},\"x\":{\"field\":\"x\"},\"y\":{\"field\":\"y\"}},\"id\":\"7dafa445-7785-49a2-b4c6-55ef84eeea5b\",\"type\":\"Line\"},{\"attributes\":{\"plot\":{\"id\":\"f4f389ec-9a61-4680-add4-ccb2d7b10154\",\"subtype\":\"Figure\",\"type\":\"Plot\"}},\"id\":\"9da17f87-e5a1-470d-a88b-8bd195254109\",\"type\":\"CrosshairTool\"},{\"attributes\":{\"data_source\":{\"id\":\"15388407-5aff-4fdd-b02d-0f56f6cea8c4\",\"type\":\"ColumnDataSource\"},\"glyph\":{\"id\":\"f3f78f64-5626-45ce-b981-3c9da31fb49d\",\"type\":\"Line\"},\"hover_glyph\":null,\"nonselection_glyph\":{\"id\":\"87bf5ebf-6c24-4a62-a09d-84d658202fa0\",\"type\":\"Line\"},\"selection_glyph\":null},\"id\":\"0258cab4-0f7d-4dd2-87fd-b18b7ade3059\",\"type\":\"GlyphRenderer\"},{\"attributes\":{\"line_alpha\":{\"value\":0.1},\"line_color\":{\"value\":\"#1f77b4\"},\"x\":{\"field\":\"x\"},\"y\":{\"field\":\"y\"}},\"id\":\"4525933f-caf3-425b-9969-21492c6d6a42\",\"type\":\"Line\"},{\"attributes\":{\"data_source\":{\"id\":\"c537e5c1-7bfa-4533-9388-6caa79be48f6\",\"type\":\"ColumnDataSource\"},\"glyph\":{\"id\":\"ae884485-e834-4edd-b519-6885a5d61635\",\"type\":\"Circle\"},\"hover_glyph\":null,\"name\":\"scatter\",\"nonselection_glyph\":{\"id\":\"b1e10f9c-a861-42d5-9644-5e1935317682\",\"type\":\"Circle\"},\"selection_glyph\":null},\"id\":\"72fe84f5-9980-4cc9-9698-81097874367f\",\"type\":\"GlyphRenderer\"},{\"attributes\":{\"label\":{\"value\":\"NASA GISTEMP\"},\"renderers\":[{\"id\":\"f215fcf5-c9b3-4df9-85c4-b2d8b56af227\",\"type\":\"GlyphRenderer\"},{\"id\":\"72fe84f5-9980-4cc9-9698-81097874367f\",\"type\":\"GlyphRenderer\"}]},\"id\":\"caa6716e-57b9-4e75-b5f4-00e73000b0bb\",\"type\":\"LegendItem\"},{\"attributes\":{\"callback\":null,\"column_names\":[\"y\",\"x\"],\"data\":{\"x\":{\"__ndarray__\":\"uwcAALwHAAC9BwAAvgcAAL8HAADABwAAwQcAAMIHAADDBwAAxAcAAMUHAADGBwAAxwcAAMgHAADJBwAAygcAAMsHAADMBwAAzQcAAM4HAADPBwAA0AcAANEHAADSBwAA0wcAANQHAADVBwAA1gcAANcHAADYBwAA2QcAANoHAADbBwAA3AcAAN0HAADeBwAA3wcAAOAHAAA=\",\"dtype\":\"int32\",\"shape\":[38]},\"y\":{\"__ndarray__\":\"gMI+xSIkyr+Aynz2NZDIv4DSuidJ/Ma/gNr4WFxoxb+A4jaKb9TDvwDrdLuCQMK/APOy7JWswL8A9uE7UjG+vwAGXp54Cbu/ABbaAJ/ht78AJlZjxbm0vwA20sXrkbG/AIycUCTUrL8ArJQVcYSmvwDMjNq9NKC/ANgJPxXKk78AYOgju6p8vwCgVrTe0nU/AGglIx4Ukj8AJDWZhLOePwByood1qaU/AFKqwij5qz8AGdn+bSSxPwAJXZxHTLQ/APngOSF0tz8A6WTX+pu6PwDZ6HTUw70/gGQ2Cdd1wD+AXPjXwwnCP4BUuqawncM/gEx8dZ0xxT+ARD5EisXGP4A8ABN3Wcg/ADTC4WPtyT8ALISwUIHLPwAkRn89Fc0/ABwITiqpzj8ACmWOix7QPw==\",\"dtype\":\"float64\",\"shape\":[38]}}},\"id\":\"a77999d6-7cd5-4065-a872-924dceb83108\",\"type\":\"ColumnDataSource\"},{\"attributes\":{\"dimension\":1,\"plot\":{\"id\":\"f4f389ec-9a61-4680-add4-ccb2d7b10154\",\"subtype\":\"Figure\",\"type\":\"Plot\"},\"ticker\":{\"id\":\"c691ed4b-f87f-4321-bc7d-531f36172410\",\"type\":\"BasicTicker\"}},\"id\":\"8d4ebcbd-8e02-4c5b-91f3-9f8fdd5d6364\",\"type\":\"Grid\"},{\"attributes\":{\"line_color\":{\"value\":\"yellow\"},\"line_dash\":[6],\"line_width\":{\"value\":2},\"x\":{\"field\":\"x\"},\"y\":{\"field\":\"y\"}},\"id\":\"a33bb575-c6cc-4a36-a53d-e97ed701cc9d\",\"type\":\"Line\"},{\"attributes\":{\"callback\":null},\"id\":\"705aedf5-9c8f-4571-8ff1-a7b6adb91874\",\"type\":\"DataRange1d\"},{\"attributes\":{\"label\":{\"value\":\"UAH\"},\"renderers\":[{\"id\":\"cf30d3bd-8df0-4ff1-96c2-4637dc4d71d3\",\"type\":\"GlyphRenderer\"},{\"id\":\"cf4b1047-92ee-4bde-b12d-866396a709ce\",\"type\":\"GlyphRenderer\"}]},\"id\":\"909ac19f-5ed0-4ba0-8da9-d71bd94a87f8\",\"type\":\"LegendItem\"},{\"attributes\":{\"fill_alpha\":{\"value\":0.1},\"fill_color\":{\"value\":\"#1f77b4\"},\"line_alpha\":{\"value\":0.1},\"line_color\":{\"value\":\"#1f77b4\"},\"size\":{\"units\":\"screen\",\"value\":8},\"x\":{\"field\":\"year\"},\"y\":{\"field\":\"anomaly\"}},\"id\":\"b1e10f9c-a861-42d5-9644-5e1935317682\",\"type\":\"Circle\"},{\"attributes\":{\"line_color\":{\"value\":\"red\"},\"line_dash\":[6],\"line_width\":{\"value\":2},\"x\":{\"field\":\"x\"},\"y\":{\"field\":\"y\"}},\"id\":\"b6e7af38-6ca9-444d-9c7d-f9117363f579\",\"type\":\"Line\"},{\"attributes\":{\"data_source\":{\"id\":\"40f668f7-4d06-4a59-b89c-6e2d9519870e\",\"type\":\"ColumnDataSource\"},\"glyph\":{\"id\":\"871f0120-bfb6-4118-bee8-1e5e9d2db926\",\"type\":\"Circle\"},\"hover_glyph\":null,\"name\":\"scatter\",\"nonselection_glyph\":{\"id\":\"fa2e5a3f-4f32-4892-addb-a344a992d8fa\",\"type\":\"Circle\"},\"selection_glyph\":null},\"id\":\"cf4b1047-92ee-4bde-b12d-866396a709ce\",\"type\":\"GlyphRenderer\"},{\"attributes\":{\"data_source\":{\"id\":\"17aafa57-bf3f-4fd3-bcf1-d7e7b18f8fa4\",\"type\":\"ColumnDataSource\"},\"glyph\":{\"id\":\"6bd63d27-2ebe-4dee-8fb8-0a98e4e9c932\",\"type\":\"Line\"},\"hover_glyph\":null,\"nonselection_glyph\":{\"id\":\"7dafa445-7785-49a2-b4c6-55ef84eeea5b\",\"type\":\"Line\"},\"selection_glyph\":null},\"id\":\"44183c9b-8796-4723-9a23-1d71f7d445bb\",\"type\":\"GlyphRenderer\"},{\"attributes\":{\"bottom_units\":\"screen\",\"fill_alpha\":{\"value\":0.5},\"fill_color\":{\"value\":\"lightgrey\"},\"left_units\":\"screen\",\"level\":\"overlay\",\"line_alpha\":{\"value\":1.0},\"line_color\":{\"value\":\"black\"},\"line_dash\":[4,4],\"line_width\":{\"value\":2},\"plot\":null,\"render_mode\":\"css\",\"right_units\":\"screen\",\"top_units\":\"screen\"},\"id\":\"0b024e41-7922-49aa-865e-800e293347ad\",\"type\":\"BoxAnnotation\"},{\"attributes\":{\"data_source\":{\"id\":\"d54c1eff-cc34-4388-9cb0-0c41d6f4a99f\",\"type\":\"ColumnDataSource\"},\"glyph\":{\"id\":\"a33bb575-c6cc-4a36-a53d-e97ed701cc9d\",\"type\":\"Line\"},\"hover_glyph\":null,\"nonselection_glyph\":{\"id\":\"879d8118-3e51-46db-b1b0-d10c59dbeb66\",\"type\":\"Line\"},\"selection_glyph\":null},\"id\":\"16b0ef59-deba-4d83-9c25-ffbf8d7e1075\",\"type\":\"GlyphRenderer\"},{\"attributes\":{\"line_alpha\":{\"value\":0.1},\"line_color\":{\"value\":\"#1f77b4\"},\"x\":{\"field\":\"x\"},\"y\":{\"field\":\"y\"}},\"id\":\"87bf5ebf-6c24-4a62-a09d-84d658202fa0\",\"type\":\"Line\"},{\"attributes\":{\"active_drag\":\"auto\",\"active_scroll\":\"auto\",\"active_tap\":\"auto\",\"tools\":[{\"id\":\"865d8f38-e4ad-4068-a920-6c9c1bc608ee\",\"type\":\"PanTool\"},{\"id\":\"da92d221-60a6-4ca1-b129-ec56662931c6\",\"type\":\"BoxZoomTool\"},{\"id\":\"c6eeb7bd-e027-4578-8a32-9f5b10144faa\",\"type\":\"ResetTool\"},{\"id\":\"5c58feaf-95e0-455a-9c79-d6f83544c999\",\"type\":\"ResizeTool\"},{\"id\":\"c85c622e-049e-4725-8f37-4b7587091fc9\",\"type\":\"SaveTool\"},{\"id\":\"9da17f87-e5a1-470d-a88b-8bd195254109\",\"type\":\"CrosshairTool\"},{\"id\":\"7fdd72cb-5a34-43b1-9229-94e847108cca\",\"type\":\"HoverTool\"}]},\"id\":\"51159ae3-efbc-4926-91d0-4939677773c0\",\"type\":\"Toolbar\"},{\"attributes\":{\"callback\":null},\"id\":\"0498046d-903b-4d73-90ab-6f0e1bcadc9a\",\"type\":\"DataRange1d\"},{\"attributes\":{\"callback\":null,\"column_names\":[\"x\",\"y\"],\"data\":{\"x\":{\"__ndarray__\":\"uwcAALwHAAC9BwAAvgcAAL8HAADABwAAwQcAAMIHAADDBwAAxAcAAMUHAADGBwAAxwcAAMgHAADJBwAAygcAAMsHAADMBwAAzQcAAM4HAADPBwAA0AcAANEHAADSBwAA0wcAANQHAADVBwAA1gcAANcHAADYBwAA2QcAANoHAADbBwAA3AcAAN0HAADeBwAA3wcAAOAHAAA=\",\"dtype\":\"int32\",\"shape\":[38]},\"y\":{\"__ndarray__\":\"CV+YTBWMyL//9nXgnBG1v1+PwvUoXLO/tvDPH61E0b+UWdCOLkmgv6GJsOHpldS/dwj2crLn1r+iIItHvE/Ov4Dlifo3Qlk/bIU1qBCin7/E9Shcj8LLv8yJ1QyW15e/SOsHYsYBkb9Y711w87PRvyRpSsXZh8u/j00Yuv+1sb/i8h/Sb1+vPxLgLZCg+Km/4MJkqmBUcj/2xZJfLPncP0CMlEBdt3s/AGGeqH8jdL9ULfzzRyvDP1q07aFq4cs/di0hH/RszD+bhoIsHvG6P8qnoSCLR84/NBeSplScwT+k4uzDZ9jDP7Jp3nGKjqy/rESzxUgJwD/UVuwvuyfYPzJbjJRAXac/A6wcWmQ7tz+EMnpb1urAP7yc7HkRgMY/GHPXEvJB0j+g/o1QRm/ePw==\",\"dtype\":\"float64\",\"shape\":[38]}}},\"id\":\"ed728e12-21a1-4306-b820-83343c8093d7\",\"type\":\"ColumnDataSource\"},{\"attributes\":{\"fill_alpha\":{\"value\":0.1},\"fill_color\":{\"value\":\"#1f77b4\"},\"line_alpha\":{\"value\":0.1},\"line_color\":{\"value\":\"#1f77b4\"},\"size\":{\"units\":\"screen\",\"value\":8},\"x\":{\"field\":\"year\"},\"y\":{\"field\":\"anomaly\"}},\"id\":\"f5cfde5f-560c-4197-8f65-d9d46c1fd0b2\",\"type\":\"Circle\"}],\"root_ids\":[\"7354739f-e29c-4cf7-827b-ec1c2fb21081\"]},\"title\":\"Bokeh Application\",\"version\":\"0.12.4\"}};\n",
       "            var render_items = [{\"docid\":\"02522456-a095-42b8-8003-356209f72564\",\"elementid\":\"45da6780-e593-4b5d-b828-7e596b928d10\",\"modelid\":\"7354739f-e29c-4cf7-827b-ec1c2fb21081\"}];\n",
       "            \n",
       "            Bokeh.embed.embed_items(docs_json, render_items);\n",
       "          };\n",
       "          if (document.readyState != \"loading\") fn();\n",
       "          else document.addEventListener(\"DOMContentLoaded\", fn);\n",
       "        })();\n",
       "      },\n",
       "      function(Bokeh) {\n",
       "      }\n",
       "    ];\n",
       "  \n",
       "    function run_inline_js() {\n",
       "      \n",
       "      if ((window.Bokeh !== undefined) || (force === true)) {\n",
       "        for (var i = 0; i < inline_js.length; i++) {\n",
       "          inline_js[i](window.Bokeh);\n",
       "        }if (force === true) {\n",
       "          display_loaded();\n",
       "        }} else if (Date.now() < window._bokeh_timeout) {\n",
       "        setTimeout(run_inline_js, 100);\n",
       "      } else if (!window._bokeh_failed_load) {\n",
       "        console.log(\"Bokeh: BokehJS failed to load within specified timeout.\");\n",
       "        window._bokeh_failed_load = true;\n",
       "      } else if (force !== true) {\n",
       "        var cell = $(document.getElementById(\"45da6780-e593-4b5d-b828-7e596b928d10\")).parents('.cell').data().cell;\n",
       "        cell.output_area.append_execute_result(NB_LOAD_WARNING)\n",
       "      }\n",
       "  \n",
       "    }\n",
       "  \n",
       "    if (window._bokeh_is_loading === 0) {\n",
       "      console.log(\"Bokeh: BokehJS loaded, going straight to plotting\");\n",
       "      run_inline_js();\n",
       "    } else {\n",
       "      load_libs(js_urls, function() {\n",
       "        console.log(\"Bokeh: BokehJS plotting callback run at\", now());\n",
       "        run_inline_js();\n",
       "      });\n",
       "    }\n",
       "  }(this));\n",
       "</script>"
      ]
     },
     "metadata": {},
     "output_type": "display_data"
    }
   ],
   "source": [
    "plot = bplt.figure(\n",
    "            tools=\"pan,box_zoom,reset,resize,save,crosshair,hover\",\n",
    "            x_axis_label='Година',\n",
    "            y_axis_label ='Градуси (°C)',\n",
    "            toolbar_location = 'right',\n",
    "            width= 800,\n",
    "            height = 400)\n",
    "\n",
    "hover = plot.select(dict(type=HoverTool))\n",
    "hover.tooltips = OrderedDict([('Година', '@year'), ('Отклонение', '@anomaly{1.11}'), ('Източник', '@source')])\n",
    "hover.names = ['scatter']\n",
    "hover.point_policy='snap_to_data'\n",
    "\n",
    "props = []\n",
    "for key,val in annual_means_fixed.iteritems():\n",
    "    to_plot = ColumnDataSource({'year': x, 'anomaly': val, 'source': np.repeat(key, len(x))})\n",
    "    p1=plot.line(x,val, line_color = colours[key],legend=key)\n",
    "    p2=plot.circle('year', 'anomaly', source=to_plot, legend=key, name='scatter', fill_color = colours[key], size = 8)\n",
    "    \n",
    "    p3=plot.line(x,reg[key][0], line_color = colours[key], line_width = 2, line_dash='dashed')\n",
    "    \n",
    "    props.append((p1,p2,p3))\n",
    "    \n",
    "plot.legend.location = \"top_left\" \n",
    "\n",
    "checkbox = CheckboxGroup(labels=annual_means_fixed.keys(),\n",
    "                         active=[0,1,2,3,4], width=100)\n",
    "\n",
    "callback_arg = dict(p00=props[0][0],p01=props[0][1],p02=props[0][2],\n",
    "                    p10=props[1][0],p11=props[1][1],p12=props[1][2],\n",
    "                    p20=props[2][0],p21=props[2][1],p22=props[2][2],\n",
    "                    p30=props[3][0],p31=props[3][1],p32=props[3][2],\n",
    "                    p40=props[4][0],p41=props[4][1],p42=props[4][2],\n",
    "                    checkbox=checkbox)\n",
    "\n",
    "#https://github.com/bokeh/bokeh/issues/5743\n",
    "checkbox.callback = CustomJS(args=callback_arg,\n",
    "                             code=\"\"\"\n",
    "var indexOf = [].indexOf || function(item) { for (var i = 0, l = this.length; i < l; i++) { if (i in this && this[i] === item) return i; } return -1; };                             \n",
    "p00.visible = indexOf.call(checkbox.active,0)>=0;\n",
    "p01.visible = indexOf.call(checkbox.active,0)>=0;\n",
    "p02.visible = indexOf.call(checkbox.active,0)>=0;\n",
    "p10.visible = indexOf.call(checkbox.active,1)>=0;\n",
    "p11.visible = indexOf.call(checkbox.active,1)>=0;\n",
    "p12.visible = indexOf.call(checkbox.active,1)>=0;\n",
    "p20.visible = indexOf.call(checkbox.active,2)>=0;\n",
    "p21.visible = indexOf.call(checkbox.active,2)>=0;\n",
    "p22.visible = indexOf.call(checkbox.active,2)>=0;\n",
    "p30.visible = indexOf.call(checkbox.active,3)>=0;\n",
    "p31.visible = indexOf.call(checkbox.active,3)>=0;\n",
    "p32.visible = indexOf.call(checkbox.active,3)>=0;\n",
    "p40.visible = indexOf.call(checkbox.active,4)>=0;\n",
    "p41.visible = indexOf.call(checkbox.active,4)>=0;\n",
    "p42.visible = indexOf.call(checkbox.active,4)>=0;\n",
    "\"\"\")\n",
    "\n",
    "layout = row(plot,checkbox)\n",
    "plot.xaxis.axis_label_text_font_size = \"12pt\"\n",
    "plot.yaxis.axis_label_text_font_size = \"12pt\"\n",
    "plot.xaxis.axis_label_text_font_style = 'normal'\n",
    "plot.yaxis.axis_label_text_font_style = 'normal'\n",
    "plot.xaxis.major_label_text_font_size = '12pt'\n",
    "plot.yaxis.major_label_text_font_size = '12pt'\n",
    "#bplt.output_notebook()\n",
    "\n",
    "bplt.show(layout)"
   ]
  },
  {
   "cell_type": "code",
   "execution_count": 107,
   "metadata": {
    "collapsed": true
   },
   "outputs": [],
   "source": [
    "from bokeh.resources import CDN, JSResources\n",
    "from bokeh.embed import file_html\n",
    "from bokeh.util.browser import view\n",
    "from bokeh.io import output_file\n",
    "import io"
   ]
  },
  {
   "cell_type": "code",
   "execution_count": 99,
   "metadata": {
    "collapsed": false
   },
   "outputs": [
    {
     "ename": "TypeError",
     "evalue": "must be unicode, not str",
     "output_type": "error",
     "traceback": [
      "\u001b[1;31m---------------------------------------------------------------------------\u001b[0m",
      "\u001b[1;31mTypeError\u001b[0m                                 Traceback (most recent call last)",
      "\u001b[1;32m<ipython-input-99-73652cc50dce>\u001b[0m in \u001b[0;36m<module>\u001b[1;34m()\u001b[0m\n\u001b[0;32m      5\u001b[0m \u001b[0moutput_file\u001b[0m \u001b[1;33m=\u001b[0m \u001b[1;34m'test.html'\u001b[0m\u001b[1;33m\u001b[0m\u001b[0m\n\u001b[0;32m      6\u001b[0m \u001b[1;32mwith\u001b[0m \u001b[0mio\u001b[0m\u001b[1;33m.\u001b[0m\u001b[0mopen\u001b[0m\u001b[1;33m(\u001b[0m\u001b[0mos\u001b[0m\u001b[1;33m.\u001b[0m\u001b[0mpath\u001b[0m\u001b[1;33m.\u001b[0m\u001b[0mjoin\u001b[0m\u001b[1;33m(\u001b[0m\u001b[0mDATADIR\u001b[0m\u001b[1;33m,\u001b[0m\u001b[0moutput_file\u001b[0m\u001b[1;33m)\u001b[0m\u001b[1;33m,\u001b[0m \u001b[0mmode\u001b[0m\u001b[1;33m=\u001b[0m\u001b[1;34m'w'\u001b[0m\u001b[1;33m,\u001b[0m \u001b[0mencoding\u001b[0m\u001b[1;33m=\u001b[0m\u001b[1;34m'utf-8'\u001b[0m\u001b[1;33m)\u001b[0m \u001b[1;32mas\u001b[0m \u001b[0mf\u001b[0m\u001b[1;33m:\u001b[0m\u001b[1;33m\u001b[0m\u001b[0m\n\u001b[1;32m----> 7\u001b[1;33m     \u001b[0mf\u001b[0m\u001b[1;33m.\u001b[0m\u001b[0mwrite\u001b[0m\u001b[1;33m(\u001b[0m\u001b[0mhtml\u001b[0m\u001b[1;33m)\u001b[0m\u001b[1;33m\u001b[0m\u001b[0m\n\u001b[0m\u001b[0;32m      8\u001b[0m \u001b[0mview\u001b[0m\u001b[1;33m(\u001b[0m\u001b[0moutput_file\u001b[0m\u001b[1;33m)\u001b[0m\u001b[1;33m\u001b[0m\u001b[0m\n",
      "\u001b[1;31mTypeError\u001b[0m: must be unicode, not str"
     ]
    }
   ],
   "source": [
    "js_resources = JSResources(mode='inline')\n",
    "title = \"temp anomaly 5 datasets\"\n",
    "#html = file_html(layout, resources=(js_resources, None), title=title)\n",
    "out = 'test.html'\n",
    "output_file=out\n",
    "with io.open(os.path.join(DATADIR,output_file), mode='w', encoding='utf-8') as f:\n",
    "    f.write(html)\n",
    "view(output_file)"
   ]
  },
  {
   "cell_type": "code",
   "execution_count": 77,
   "metadata": {
    "collapsed": false
   },
   "outputs": [
    {
     "name": "stdout",
     "output_type": "stream",
     "text": [
      "NASA GISTEMP 0.172666593719 0.02127298429\n",
      "NOAA NCDC 0.163069445964 0.0196379426504\n",
      "HadCRU 0.171932012985 0.0208578415228\n",
      "RSS 0.135174718241 0.0368544973049\n",
      "UAH 0.123268136558 0.0582293899485\n"
     ]
    }
   ],
   "source": [
    "#plot the slopes of the regression lines +-95%CI\n",
    "xi = np.arange(0,5)\n",
    "y = []\n",
    "yerr = []\n",
    "for k,v in reg.iteritems():\n",
    "    print k, v[1]*10, v[2]*10 #per decade\n",
    "    y.append(v[1]*10)\n",
    "    yerr.append(1*v[2]*10)\n",
    "    \n",
    "plt.errorbar(xi,y,yerr=yerr, fmt='ko',linewidth=1,capsize=5)\n",
    "ax = plt.gca()\n",
    "\n",
    "for xx,yy,ye in zip(xi, y, yerr):      \n",
    "    pass\n",
    "    annotation = r'{}$\\pm${}'.format(np.round(yy,2), np.round(ye,2))\n",
    "    ax.annotate(annotation,(xx,yy), textcoords='data', xytext = (xx+0.05,yy+0.001))\n",
    "\n",
    "ax.set_xticklabels(np.concatenate([np.array(['']),reg.keys()]), size=12, rotation=12)\n",
    "plt.xlim(-1,5)\n",
    "ylabel = r'$\\circ$C'\n",
    "ax.set_ylabel(ylabel)\n",
    "plt.savefig(os.path.join(DATADIR, 'slopes.png'), transparent=True)"
   ]
  },
  {
   "cell_type": "code",
   "execution_count": 30,
   "metadata": {
    "collapsed": false
   },
   "outputs": [],
   "source": [
    "'''\n",
    "can see that slopes are not significantly different visually\n",
    "just in case, run GLM w/ dummy interaction (i.e. ANCOVA) to test \n",
    "'''\n",
    "from statsmodels.formula.api import ols"
   ]
  },
  {
   "cell_type": "code",
   "execution_count": 50,
   "metadata": {
    "collapsed": false
   },
   "outputs": [],
   "source": [
    "t = np.repeat(x,5)\n",
    "d = np.concatenate([val for val in annual_means_fixed.values()])\n",
    "g = np.concatenate([np.repeat(key,len(x)) for key in reg.keys()])\n",
    "\n",
    "df = pd.DataFrame({'time':t, 'val':d, 'dataset':g})"
   ]
  },
  {
   "cell_type": "code",
   "execution_count": 62,
   "metadata": {
    "collapsed": false,
    "scrolled": true
   },
   "outputs": [
    {
     "name": "stdout",
     "output_type": "stream",
     "text": [
      "                            OLS Regression Results                            \n",
      "==============================================================================\n",
      "Dep. Variable:                   time   R-squared:                       0.987\n",
      "Model:                            OLS   Adj. R-squared:                  0.987\n",
      "Method:                 Least Squares   F-statistic:                     1537.\n",
      "Date:                Sun, 05 Feb 2017   Prob (F-statistic):          3.90e-165\n",
      "Time:                        13:58:07   Log-Likelihood:                -310.93\n",
      "No. Observations:                 190   AIC:                             641.9\n",
      "Df Residuals:                     180   BIC:                             674.3\n",
      "Df Model:                           9                                         \n",
      "Covariance Type:            nonrobust                                         \n",
      "===============================================================================================\n",
      "                                  coef    std err          t      P>|t|      [95.0% Conf. Int.]\n",
      "-----------------------------------------------------------------------------------------------\n",
      "Intercept                    1997.1689      0.210   9508.860      0.000      1996.754  1997.583\n",
      "dataset[T.NASA GISTEMP]       -15.2191      0.298    -51.149      0.000       -15.806   -14.632\n",
      "dataset[T.NOAA NCDC]           -7.6653      0.298    -25.740      0.000        -8.253    -7.078\n",
      "dataset[T.RSS]                  7.7334      0.296     26.118      0.000         7.149     8.318\n",
      "dataset[T.UAH]                 15.3344      0.296     51.790      0.000        14.750    15.919\n",
      "val                             9.5144      0.993      9.581      0.000         7.555    11.474\n",
      "val:dataset[T.NASA GISTEMP]    -0.2002      1.399     -0.143      0.886        -2.961     2.561\n",
      "val:dataset[T.NOAA NCDC]        0.6015      1.446      0.416      0.678        -2.252     3.455\n",
      "val:dataset[T.RSS]             -1.2318      1.432     -0.860      0.391        -4.057     1.594\n",
      "val:dataset[T.UAH]             -1.9215      1.451     -1.325      0.187        -4.784     0.941\n",
      "==============================================================================\n",
      "Omnibus:                        0.907   Durbin-Watson:                   1.086\n",
      "Prob(Omnibus):                  0.636   Jarque-Bera (JB):                0.782\n",
      "Skew:                          -0.157   Prob(JB):                        0.676\n",
      "Kurtosis:                       3.011   Cond. No.                         28.1\n",
      "==============================================================================\n",
      "\n",
      "Warnings:\n",
      "[1] Standard Errors assume that the covariance matrix of the errors is correctly specified.\n"
     ]
    }
   ],
   "source": [
    "formula = 'time~val*dataset' #test temp*dataset interaction term i.e. is there a diff in slopes between datasets?\n",
    "lm = ols(formula, df)\n",
    "lmfit = lm.fit()\n",
    "print lmfit.summary()\n",
    "# p>0.05 for all interactions = not significantly different from each other"
   ]
  }
 ],
 "metadata": {
  "kernelspec": {
   "display_name": "Python 2",
   "language": "python",
   "name": "python2"
  },
  "language_info": {
   "codemirror_mode": {
    "name": "ipython",
    "version": 2
   },
   "file_extension": ".py",
   "mimetype": "text/x-python",
   "name": "python",
   "nbconvert_exporter": "python",
   "pygments_lexer": "ipython2",
   "version": "2.7.11"
  }
 },
 "nbformat": 4,
 "nbformat_minor": 0
}
